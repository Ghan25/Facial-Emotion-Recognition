{
  "nbformat": 4,
  "nbformat_minor": 0,
  "metadata": {
    "colab": {
      "name": "Copy of CNN.ipynb",
      "provenance": [],
      "collapsed_sections": []
    },
    "kernelspec": {
      "name": "python3",
      "display_name": "Python 3"
    }
  },
  "cells": [
    {
      "cell_type": "code",
      "metadata": {
        "id": "RtG7TCY31F5h",
        "colab_type": "code",
        "colab": {
          "base_uri": "https://localhost:8080/",
          "height": 34
        },
        "outputId": "774b3b87-9cf2-4751-f81f-0bd074b61752"
      },
      "source": [
        "import numpy as np\n",
        "import pandas as pd\n",
        "import itertools \n",
        "import keras\n",
        "import tensorflow as tf\n",
        "from keras import layers\n",
        "from keras.layers import Conv2D, Input, Dense, MaxPool2D,BatchNormalization,Flatten,ZeroPadding2D,Activation,Dropout\n",
        "from keras.models import Model\n",
        "import matplotlib.pyplot as plt\n",
        "from matplotlib.pyplot import imshow\n",
        "from sklearn.model_selection import train_test_split\n",
        "from sklearn.metrics import confusion_matrix\n",
        "from sklearn.model_selection import KFold\n",
        "\n",
        "%matplotlib inline"
      ],
      "execution_count": 1,
      "outputs": [
        {
          "output_type": "stream",
          "text": [
            "Using TensorFlow backend.\n"
          ],
          "name": "stderr"
        }
      ]
    },
    {
      "cell_type": "code",
      "metadata": {
        "id": "oPPEHKF4zitX",
        "colab_type": "code",
        "colab": {}
      },
      "source": [
        "data = pd.read_csv('/content/drive/My Drive/data/FER_preprocessed.csv')\n",
        "datapoints = data['pixels'].tolist()"
      ],
      "execution_count": 2,
      "outputs": []
    },
    {
      "cell_type": "code",
      "metadata": {
        "id": "TFCUhipd1DxV",
        "colab_type": "code",
        "colab": {}
      },
      "source": [
        "width, height = 48, 48\n",
        "X = []\n",
        "for xseq in datapoints:\n",
        "    x = [int(xp) for xp in xseq.split(' ')]\n",
        "    x = np.asarray(x).reshape(width, height)\n",
        "    X.append(x.astype('float64'))"
      ],
      "execution_count": 3,
      "outputs": []
    },
    {
      "cell_type": "code",
      "metadata": {
        "id": "zWe8JTOK1Fps",
        "colab_type": "code",
        "colab": {}
      },
      "source": [
        "y = pd.get_dummies(data['emotion']).to_numpy()\n",
        "x = X\n",
        "x -= np.mean(x, axis=0)\n",
        "x /= np.std(x, axis=0)"
      ],
      "execution_count": 4,
      "outputs": []
    },
    {
      "cell_type": "code",
      "metadata": {
        "id": "D707jhAkxu-P",
        "colab_type": "code",
        "colab": {
          "base_uri": "https://localhost:8080/",
          "height": 34
        },
        "outputId": "d8478e1b-086f-4c4a-ebea-0a7c6a855be4"
      },
      "source": [
        "from google.colab import drive\n",
        "drive.mount('/content/drive')"
      ],
      "execution_count": 12,
      "outputs": [
        {
          "output_type": "stream",
          "text": [
            "Drive already mounted at /content/drive; to attempt to forcibly remount, call drive.mount(\"/content/drive\", force_remount=True).\n"
          ],
          "name": "stdout"
        }
      ]
    },
    {
      "cell_type": "code",
      "metadata": {
        "id": "NDI3s5qa1ouL",
        "colab_type": "code",
        "colab": {}
      },
      "source": [
        "X_train, X_test, y_train, y_test = train_test_split(x, y, test_size=0.2, random_state=42)\n",
        "X_train = X_train.reshape(X_train.shape[0], 48, 48, 1)\n",
        "X_test = X_test.reshape(X_test.shape[0], 48, 48, 1)"
      ],
      "execution_count": 5,
      "outputs": []
    },
    {
      "cell_type": "markdown",
      "metadata": {
        "id": "9gg_6ihx3LY6",
        "colab_type": "text"
      },
      "source": [
        "Define the model with input as input_shape i.e the shape of image\n"
      ]
    },
    {
      "cell_type": "code",
      "metadata": {
        "id": "jSQkN5FnOs8d",
        "colab_type": "code",
        "colab": {}
      },
      "source": [
        "def classifierModel(input_shape):\n",
        "  X_input = Input(input_shape)\n",
        "  '''\n",
        "  Layer 1\n",
        "  '''\n",
        "  X = Conv2D(64,(7,7),strides=(2,2),name = 'conv2')(X_input)\n",
        "  X = Activation('relu')(X)\n",
        "  X = MaxPool2D((3,3),strides=(2,2),name='max_pool2')(X)\n",
        "  X = BatchNormalization()(X)\n",
        "\n",
        "  '''\n",
        "  Layer 2\n",
        "  '''\n",
        "  X1 = Conv2D(96,(1,1),name='conv4')(X)\n",
        "  X1 = Activation('relu')(X1)\n",
        "  X2 = MaxPool2D((3,3),strides=(1,1),name='max_pool3')(X)\n",
        "  X3 = Conv2D(208,(3,3),name='conv5')(X1)\n",
        "  X3 = Activation('relu')(X3)\n",
        "  X4 = Conv2D(64,(1,1),name='conv6')(X2)\n",
        "  X4 = Activation('relu')(X4)\n",
        "  print(X1.shape,X2.shape)\n",
        "  chunk_1 = keras.layers.concatenate([X3,X4],axis=3)\n",
        "  '''\n",
        "  Layer 3\n",
        "  '''\n",
        "  X5 = Conv2D(96,(1,1),name='conv7')(chunk_1)\n",
        "  X5 = Activation('relu')(X5)\n",
        "  X6 = MaxPool2D((3,3),strides=(1,1),name='max_pool4')(chunk_1)\n",
        "  X7 = Conv2D(208, (3,3),name='conv8')(X5)\n",
        "  X7 = Activation('relu')(X7)\n",
        "  X8 = Conv2D(64,(1,1),name='conv9')(X6)\n",
        "  X8 = Activation('relu')(X8)\n",
        "  chunk_2 = keras.layers.concatenate([X7,X8],axis=3)\n",
        "  '''\n",
        "  Layer 4\n",
        "  '''\n",
        "  out = Flatten()(chunk_2)\n",
        "  out = Dropout(0.5)(out)\n",
        "  out = Dense(7,activation='softmax',use_bias=True)(out)\n",
        "  model = Model(inputs=X_input,outputs=out,name='Second')\n",
        "  return model"
      ],
      "execution_count": 6,
      "outputs": []
    },
    {
      "cell_type": "code",
      "metadata": {
        "id": "_RqdSAfPTkCI",
        "colab_type": "code",
        "colab": {
          "base_uri": "https://localhost:8080/",
          "height": 34
        },
        "outputId": "991b13bd-74cd-469e-e7a6-e3cb1c9c1185"
      },
      "source": [
        "model1 = classifierModel((48,48,1))"
      ],
      "execution_count": 15,
      "outputs": [
        {
          "output_type": "stream",
          "text": [
            "(None, 10, 10, 96) (None, 8, 8, 64)\n"
          ],
          "name": "stdout"
        }
      ]
    },
    {
      "cell_type": "code",
      "metadata": {
        "id": "MR7paGNHT796",
        "colab_type": "code",
        "colab": {}
      },
      "source": [
        "model1.compile(optimizer='adam', loss='categorical_crossentropy', metrics=['accuracy'])"
      ],
      "execution_count": 16,
      "outputs": []
    },
    {
      "cell_type": "code",
      "metadata": {
        "id": "tVxXZ-p4UQFA",
        "colab_type": "code",
        "colab": {
          "base_uri": "https://localhost:8080/",
          "height": 84
        },
        "outputId": "5c81c318-c964-4e39-e66d-cbe5c5a5f716"
      },
      "source": [
        "model1.fit(X_train,y_train,epochs=1,batch_size=128,validation_data=(X_test,y_test),shuffle=True)"
      ],
      "execution_count": 17,
      "outputs": [
        {
          "output_type": "stream",
          "text": [
            "Train on 28709 samples, validate on 7178 samples\n",
            "Epoch 1/1\n",
            "28709/28709 [==============================] - 131s 5ms/step - loss: 1.6418 - accuracy: 0.3528 - val_loss: 1.6131 - val_accuracy: 0.3710\n"
          ],
          "name": "stdout"
        },
        {
          "output_type": "execute_result",
          "data": {
            "text/plain": [
              "<keras.callbacks.callbacks.History at 0x7fd6c64ca438>"
            ]
          },
          "metadata": {
            "tags": []
          },
          "execution_count": 17
        }
      ]
    },
    {
      "cell_type": "code",
      "metadata": {
        "id": "KwXJnRaj-ODu",
        "colab_type": "code",
        "colab": {
          "base_uri": "https://localhost:8080/",
          "height": 991
        },
        "outputId": "0d2402cb-b884-413a-b612-2b83b1671186"
      },
      "source": [
        "model1.summary()"
      ],
      "execution_count": null,
      "outputs": [
        {
          "output_type": "stream",
          "text": [
            "Model: \"Second\"\n",
            "__________________________________________________________________________________________________\n",
            "Layer (type)                    Output Shape         Param #     Connected to                     \n",
            "==================================================================================================\n",
            "input_2 (InputLayer)            (None, 48, 48, 1)    0                                            \n",
            "__________________________________________________________________________________________________\n",
            "conv2 (Conv2D)                  (None, 21, 21, 64)   3200        input_2[0][0]                    \n",
            "__________________________________________________________________________________________________\n",
            "activation_8 (Activation)       (None, 21, 21, 64)   0           conv2[0][0]                      \n",
            "__________________________________________________________________________________________________\n",
            "max_pool2 (MaxPooling2D)        (None, 10, 10, 64)   0           activation_8[0][0]               \n",
            "__________________________________________________________________________________________________\n",
            "batch_normalization_2 (BatchNor (None, 10, 10, 64)   256         max_pool2[0][0]                  \n",
            "__________________________________________________________________________________________________\n",
            "conv4 (Conv2D)                  (None, 10, 10, 96)   6240        batch_normalization_2[0][0]      \n",
            "__________________________________________________________________________________________________\n",
            "activation_9 (Activation)       (None, 10, 10, 96)   0           conv4[0][0]                      \n",
            "__________________________________________________________________________________________________\n",
            "max_pool3 (MaxPooling2D)        (None, 8, 8, 64)     0           batch_normalization_2[0][0]      \n",
            "__________________________________________________________________________________________________\n",
            "conv5 (Conv2D)                  (None, 8, 8, 208)    179920      activation_9[0][0]               \n",
            "__________________________________________________________________________________________________\n",
            "conv6 (Conv2D)                  (None, 8, 8, 64)     4160        max_pool3[0][0]                  \n",
            "__________________________________________________________________________________________________\n",
            "activation_10 (Activation)      (None, 8, 8, 208)    0           conv5[0][0]                      \n",
            "__________________________________________________________________________________________________\n",
            "activation_11 (Activation)      (None, 8, 8, 64)     0           conv6[0][0]                      \n",
            "__________________________________________________________________________________________________\n",
            "concatenate_3 (Concatenate)     (None, 8, 8, 272)    0           activation_10[0][0]              \n",
            "                                                                 activation_11[0][0]              \n",
            "__________________________________________________________________________________________________\n",
            "conv7 (Conv2D)                  (None, 8, 8, 96)     26208       concatenate_3[0][0]              \n",
            "__________________________________________________________________________________________________\n",
            "activation_12 (Activation)      (None, 8, 8, 96)     0           conv7[0][0]                      \n",
            "__________________________________________________________________________________________________\n",
            "max_pool4 (MaxPooling2D)        (None, 6, 6, 272)    0           concatenate_3[0][0]              \n",
            "__________________________________________________________________________________________________\n",
            "conv8 (Conv2D)                  (None, 6, 6, 208)    179920      activation_12[0][0]              \n",
            "__________________________________________________________________________________________________\n",
            "conv9 (Conv2D)                  (None, 6, 6, 64)     17472       max_pool4[0][0]                  \n",
            "__________________________________________________________________________________________________\n",
            "activation_13 (Activation)      (None, 6, 6, 208)    0           conv8[0][0]                      \n",
            "__________________________________________________________________________________________________\n",
            "activation_14 (Activation)      (None, 6, 6, 64)     0           conv9[0][0]                      \n",
            "__________________________________________________________________________________________________\n",
            "concatenate_4 (Concatenate)     (None, 6, 6, 272)    0           activation_13[0][0]              \n",
            "                                                                 activation_14[0][0]              \n",
            "__________________________________________________________________________________________________\n",
            "flatten_2 (Flatten)             (None, 9792)         0           concatenate_4[0][0]              \n",
            "__________________________________________________________________________________________________\n",
            "dropout_2 (Dropout)             (None, 9792)         0           flatten_2[0][0]                  \n",
            "__________________________________________________________________________________________________\n",
            "dense_2 (Dense)                 (None, 7)            68551       dropout_2[0][0]                  \n",
            "==================================================================================================\n",
            "Total params: 485,927\n",
            "Trainable params: 485,799\n",
            "Non-trainable params: 128\n",
            "__________________________________________________________________________________________________\n"
          ],
          "name": "stdout"
        }
      ]
    },
    {
      "cell_type": "code",
      "metadata": {
        "id": "T5yvZp31TedO",
        "colab_type": "code",
        "colab": {}
      },
      "source": [
        "model1.save('model.h5')"
      ],
      "execution_count": 24,
      "outputs": []
    },
    {
      "cell_type": "code",
      "metadata": {
        "id": "sLgUAPdQv0WE",
        "colab_type": "code",
        "colab": {
          "base_uri": "https://localhost:8080/",
          "height": 1000
        },
        "outputId": "d3e16cb0-0d56-4faf-f7e9-116831aeef47"
      },
      "source": [
        "kf = KFold(n_splits=10)\n",
        "kf.get_n_splits(x)\n",
        "max_accuracy = 0\n",
        "print(kf)\n",
        "model2 = classifierModel((48,48,1))\n",
        "model2.compile(optimizer='adam', loss='categorical_crossentropy', metrics=['accuracy'])\n",
        "for train_index,test_index in kf.split(x,np.asarray(data['emotion'])):\n",
        "  #print(\"Running Fold\", i+1, \"/\", n_folds)\n",
        "  #print(train_index,test_index)\n",
        "  X_train, X_test = x[train_index], x[test_index]\n",
        "  y_train, y_test = y[train_index], y[test_index]\n",
        "  X_train = X_train.reshape(X_train.shape[0], 48, 48, 1)\n",
        "  X_test = X_test.reshape(X_test.shape[0], 48, 48, 1)\n",
        "\n",
        "  history = model2.fit(X_train,y_train,epochs=13,batch_size=128,validation_data=(X_test,y_test))\n",
        "  if history.history['val_accuracy'][-1]>max_accuracy:\n",
        "    model2.save('my_model_10fold.h5') \n",
        "    max_accuracy = history.history['val_accuracy'][-1]\n",
        "    print(\"New Model Saved\")"
      ],
      "execution_count": 7,
      "outputs": [
        {
          "output_type": "stream",
          "text": [
            "KFold(n_splits=10, random_state=None, shuffle=False)\n",
            "(None, 10, 10, 96) (None, 8, 8, 64)\n",
            "Train on 32298 samples, validate on 3589 samples\n",
            "Epoch 1/13\n",
            "32298/32298 [==============================] - 130s 4ms/step - loss: 1.6386 - accuracy: 0.3564 - val_loss: 1.5937 - val_accuracy: 0.4230\n",
            "Epoch 2/13\n",
            "32298/32298 [==============================] - 129s 4ms/step - loss: 1.4285 - accuracy: 0.4485 - val_loss: 1.3940 - val_accuracy: 0.4603\n",
            "Epoch 3/13\n",
            "32298/32298 [==============================] - 131s 4ms/step - loss: 1.3317 - accuracy: 0.4902 - val_loss: 1.3111 - val_accuracy: 0.4974\n",
            "Epoch 4/13\n",
            "32298/32298 [==============================] - 129s 4ms/step - loss: 1.2628 - accuracy: 0.5217 - val_loss: 1.2961 - val_accuracy: 0.5082\n",
            "Epoch 5/13\n",
            "32298/32298 [==============================] - 130s 4ms/step - loss: 1.2129 - accuracy: 0.5401 - val_loss: 1.3171 - val_accuracy: 0.5052\n",
            "Epoch 6/13\n",
            "32298/32298 [==============================] - 131s 4ms/step - loss: 1.1593 - accuracy: 0.5602 - val_loss: 1.2490 - val_accuracy: 0.5263\n",
            "Epoch 7/13\n",
            "32298/32298 [==============================] - 129s 4ms/step - loss: 1.1019 - accuracy: 0.5841 - val_loss: 1.2412 - val_accuracy: 0.5347\n",
            "Epoch 8/13\n",
            "32298/32298 [==============================] - 131s 4ms/step - loss: 1.0522 - accuracy: 0.6059 - val_loss: 1.2250 - val_accuracy: 0.5311\n",
            "Epoch 9/13\n",
            "32298/32298 [==============================] - 130s 4ms/step - loss: 0.9981 - accuracy: 0.6227 - val_loss: 1.2351 - val_accuracy: 0.5422\n",
            "Epoch 10/13\n",
            "32298/32298 [==============================] - 129s 4ms/step - loss: 0.9537 - accuracy: 0.6449 - val_loss: 1.2422 - val_accuracy: 0.5495\n",
            "Epoch 11/13\n",
            "32298/32298 [==============================] - 129s 4ms/step - loss: 0.8960 - accuracy: 0.6668 - val_loss: 1.2527 - val_accuracy: 0.5469\n",
            "Epoch 12/13\n",
            "32298/32298 [==============================] - 131s 4ms/step - loss: 0.8448 - accuracy: 0.6873 - val_loss: 1.2642 - val_accuracy: 0.5425\n",
            "Epoch 13/13\n",
            "32298/32298 [==============================] - 129s 4ms/step - loss: 0.8028 - accuracy: 0.7035 - val_loss: 1.2694 - val_accuracy: 0.5489\n",
            "New Model Saved\n",
            "Train on 32298 samples, validate on 3589 samples\n",
            "Epoch 1/13\n",
            "32298/32298 [==============================] - 128s 4ms/step - loss: 0.8309 - accuracy: 0.6990 - val_loss: 0.6836 - val_accuracy: 0.7626\n",
            "Epoch 2/13\n",
            "32298/32298 [==============================] - 129s 4ms/step - loss: 0.7719 - accuracy: 0.7171 - val_loss: 0.7048 - val_accuracy: 0.7529\n",
            "Epoch 3/13\n",
            "32298/32298 [==============================] - 129s 4ms/step - loss: 0.7164 - accuracy: 0.7371 - val_loss: 0.7370 - val_accuracy: 0.7364\n",
            "Epoch 4/13\n",
            "32298/32298 [==============================] - 131s 4ms/step - loss: 0.6651 - accuracy: 0.7545 - val_loss: 0.7920 - val_accuracy: 0.7125\n",
            "Epoch 5/13\n",
            "32298/32298 [==============================] - 129s 4ms/step - loss: 0.6284 - accuracy: 0.7684 - val_loss: 0.7821 - val_accuracy: 0.7035\n",
            "Epoch 6/13\n",
            "32298/32298 [==============================] - 130s 4ms/step - loss: 0.5931 - accuracy: 0.7822 - val_loss: 0.8166 - val_accuracy: 0.7122\n",
            "Epoch 7/13\n",
            "32298/32298 [==============================] - 129s 4ms/step - loss: 0.5527 - accuracy: 0.7956 - val_loss: 0.8260 - val_accuracy: 0.6977\n",
            "Epoch 8/13\n",
            "32298/32298 [==============================] - 129s 4ms/step - loss: 0.5249 - accuracy: 0.8062 - val_loss: 0.8351 - val_accuracy: 0.7010\n",
            "Epoch 9/13\n",
            "32298/32298 [==============================] - 134s 4ms/step - loss: 0.5017 - accuracy: 0.8191 - val_loss: 0.8528 - val_accuracy: 0.7069\n",
            "Epoch 10/13\n",
            "32298/32298 [==============================] - 129s 4ms/step - loss: 0.4728 - accuracy: 0.8266 - val_loss: 0.8790 - val_accuracy: 0.7058\n",
            "Epoch 11/13\n",
            "32298/32298 [==============================] - 129s 4ms/step - loss: 0.4566 - accuracy: 0.8337 - val_loss: 0.9299 - val_accuracy: 0.6868\n",
            "Epoch 12/13\n",
            "32298/32298 [==============================] - 129s 4ms/step - loss: 0.4326 - accuracy: 0.8433 - val_loss: 0.9819 - val_accuracy: 0.6865\n",
            "Epoch 13/13\n",
            "32298/32298 [==============================] - 131s 4ms/step - loss: 0.4247 - accuracy: 0.8450 - val_loss: 0.9694 - val_accuracy: 0.6743\n",
            "New Model Saved\n",
            "Train on 32298 samples, validate on 3589 samples\n",
            "Epoch 1/13\n",
            "32298/32298 [==============================] - 129s 4ms/step - loss: 0.5242 - accuracy: 0.8159 - val_loss: 0.2479 - val_accuracy: 0.9326\n",
            "Epoch 2/13\n",
            "32298/32298 [==============================] - 129s 4ms/step - loss: 0.4639 - accuracy: 0.8328 - val_loss: 0.2749 - val_accuracy: 0.9195\n",
            "Epoch 3/13\n",
            "32298/32298 [==============================] - 130s 4ms/step - loss: 0.4262 - accuracy: 0.8479 - val_loss: 0.3059 - val_accuracy: 0.8983\n",
            "Epoch 4/13\n",
            "32298/32298 [==============================] - 129s 4ms/step - loss: 0.4094 - accuracy: 0.8542 - val_loss: 0.3230 - val_accuracy: 0.8894\n",
            "Epoch 5/13\n",
            "32298/32298 [==============================] - 130s 4ms/step - loss: 0.3865 - accuracy: 0.8595 - val_loss: 0.3722 - val_accuracy: 0.8696\n",
            "Epoch 6/13\n",
            "32298/32298 [==============================] - 130s 4ms/step - loss: 0.3785 - accuracy: 0.8635 - val_loss: 0.3907 - val_accuracy: 0.8562\n",
            "Epoch 7/13\n",
            "32298/32298 [==============================] - 129s 4ms/step - loss: 0.3669 - accuracy: 0.8660 - val_loss: 0.4048 - val_accuracy: 0.8501\n",
            "Epoch 8/13\n",
            "32298/32298 [==============================] - 129s 4ms/step - loss: 0.3521 - accuracy: 0.8735 - val_loss: 0.4374 - val_accuracy: 0.8370\n",
            "Epoch 9/13\n",
            "32298/32298 [==============================] - 131s 4ms/step - loss: 0.3331 - accuracy: 0.8796 - val_loss: 0.4572 - val_accuracy: 0.8331\n",
            "Epoch 10/13\n",
            "32298/32298 [==============================] - 131s 4ms/step - loss: 0.3330 - accuracy: 0.8804 - val_loss: 0.4667 - val_accuracy: 0.8275\n",
            "Epoch 11/13\n",
            "32298/32298 [==============================] - 129s 4ms/step - loss: 0.3186 - accuracy: 0.8858 - val_loss: 0.5438 - val_accuracy: 0.8044\n",
            "Epoch 12/13\n",
            "32298/32298 [==============================] - 130s 4ms/step - loss: 0.3256 - accuracy: 0.8846 - val_loss: 0.5272 - val_accuracy: 0.8066\n",
            "Epoch 13/13\n",
            "32298/32298 [==============================] - 129s 4ms/step - loss: 0.3155 - accuracy: 0.8895 - val_loss: 0.5266 - val_accuracy: 0.8116\n",
            "New Model Saved\n",
            "Train on 32298 samples, validate on 3589 samples\n",
            "Epoch 1/13\n",
            "32298/32298 [==============================] - 130s 4ms/step - loss: 0.3828 - accuracy: 0.8653 - val_loss: 0.1584 - val_accuracy: 0.9507\n",
            "Epoch 2/13\n",
            "32298/32298 [==============================] - 131s 4ms/step - loss: 0.3401 - accuracy: 0.8805 - val_loss: 0.1829 - val_accuracy: 0.9395\n",
            "Epoch 3/13\n",
            "32298/32298 [==============================] - 130s 4ms/step - loss: 0.3215 - accuracy: 0.8873 - val_loss: 0.1753 - val_accuracy: 0.9471\n",
            "Epoch 4/13\n",
            "32298/32298 [==============================] - 129s 4ms/step - loss: 0.3081 - accuracy: 0.8913 - val_loss: 0.1940 - val_accuracy: 0.9415\n",
            "Epoch 5/13\n",
            "32298/32298 [==============================] - 129s 4ms/step - loss: 0.3000 - accuracy: 0.8940 - val_loss: 0.2244 - val_accuracy: 0.9237\n",
            "Epoch 6/13\n",
            "32298/32298 [==============================] - 131s 4ms/step - loss: 0.2927 - accuracy: 0.8975 - val_loss: 0.2364 - val_accuracy: 0.9120\n",
            "Epoch 7/13\n",
            "32298/32298 [==============================] - 128s 4ms/step - loss: 0.2868 - accuracy: 0.8982 - val_loss: 0.2642 - val_accuracy: 0.9086\n",
            "Epoch 8/13\n",
            "32298/32298 [==============================] - 129s 4ms/step - loss: 0.2884 - accuracy: 0.8984 - val_loss: 0.2741 - val_accuracy: 0.9053\n",
            "Epoch 9/13\n",
            "32298/32298 [==============================] - 129s 4ms/step - loss: 0.2765 - accuracy: 0.9019 - val_loss: 0.3007 - val_accuracy: 0.8933\n",
            "Epoch 10/13\n",
            "32298/32298 [==============================] - 129s 4ms/step - loss: 0.2701 - accuracy: 0.9033 - val_loss: 0.3239 - val_accuracy: 0.8858\n",
            "Epoch 11/13\n",
            "32298/32298 [==============================] - 131s 4ms/step - loss: 0.2684 - accuracy: 0.9045 - val_loss: 0.3473 - val_accuracy: 0.8716\n",
            "Epoch 12/13\n",
            "32298/32298 [==============================] - 129s 4ms/step - loss: 0.2723 - accuracy: 0.9051 - val_loss: 0.3657 - val_accuracy: 0.8721\n",
            "Epoch 13/13\n",
            "32298/32298 [==============================] - 129s 4ms/step - loss: 0.2641 - accuracy: 0.9063 - val_loss: 0.3798 - val_accuracy: 0.8646\n",
            "New Model Saved\n",
            "Train on 32298 samples, validate on 3589 samples\n",
            "Epoch 1/13\n",
            "32298/32298 [==============================] - 128s 4ms/step - loss: 0.3226 - accuracy: 0.8880 - val_loss: 0.1016 - val_accuracy: 0.9716\n",
            "Epoch 2/13\n",
            "32298/32298 [==============================] - 129s 4ms/step - loss: 0.2888 - accuracy: 0.8975 - val_loss: 0.1037 - val_accuracy: 0.9716\n",
            "Epoch 3/13\n",
            "32298/32298 [==============================] - 134s 4ms/step - loss: 0.2793 - accuracy: 0.9018 - val_loss: 0.1247 - val_accuracy: 0.9615\n",
            "Epoch 4/13\n",
            "32298/32298 [==============================] - 129s 4ms/step - loss: 0.2702 - accuracy: 0.9047 - val_loss: 0.1327 - val_accuracy: 0.9588\n",
            "Epoch 5/13\n",
            "32298/32298 [==============================] - 129s 4ms/step - loss: 0.2632 - accuracy: 0.9082 - val_loss: 0.1519 - val_accuracy: 0.9532\n",
            "Epoch 6/13\n",
            "32298/32298 [==============================] - 129s 4ms/step - loss: 0.2500 - accuracy: 0.9126 - val_loss: 0.1665 - val_accuracy: 0.9485\n",
            "Epoch 7/13\n",
            "32298/32298 [==============================] - 132s 4ms/step - loss: 0.2428 - accuracy: 0.9131 - val_loss: 0.1776 - val_accuracy: 0.9395\n",
            "Epoch 8/13\n",
            "32298/32298 [==============================] - 129s 4ms/step - loss: 0.2397 - accuracy: 0.9176 - val_loss: 0.1892 - val_accuracy: 0.9370\n",
            "Epoch 9/13\n",
            "32298/32298 [==============================] - 129s 4ms/step - loss: 0.2425 - accuracy: 0.9156 - val_loss: 0.2082 - val_accuracy: 0.9256\n",
            "Epoch 10/13\n",
            "32298/32298 [==============================] - 130s 4ms/step - loss: 0.2337 - accuracy: 0.9179 - val_loss: 0.2291 - val_accuracy: 0.9225\n",
            "Epoch 11/13\n",
            "32298/32298 [==============================] - 129s 4ms/step - loss: 0.2363 - accuracy: 0.9180 - val_loss: 0.2255 - val_accuracy: 0.9186\n",
            "Epoch 12/13\n",
            "32298/32298 [==============================] - 131s 4ms/step - loss: 0.2342 - accuracy: 0.9193 - val_loss: 0.2724 - val_accuracy: 0.9053\n",
            "Epoch 13/13\n",
            "32298/32298 [==============================] - 130s 4ms/step - loss: 0.2334 - accuracy: 0.9183 - val_loss: 0.2581 - val_accuracy: 0.9097\n",
            "New Model Saved\n",
            "Train on 32298 samples, validate on 3589 samples\n",
            "Epoch 1/13\n",
            "32298/32298 [==============================] - 130s 4ms/step - loss: 0.2873 - accuracy: 0.9023 - val_loss: 0.0841 - val_accuracy: 0.9788\n",
            "Epoch 2/13\n",
            "32298/32298 [==============================] - 129s 4ms/step - loss: 0.2523 - accuracy: 0.9139 - val_loss: 0.0875 - val_accuracy: 0.9755\n",
            "Epoch 3/13\n",
            "32298/32298 [==============================] - 130s 4ms/step - loss: 0.2458 - accuracy: 0.9151 - val_loss: 0.0850 - val_accuracy: 0.9774\n",
            "Epoch 4/13\n",
            "32298/32298 [==============================] - 133s 4ms/step - loss: 0.2279 - accuracy: 0.9204 - val_loss: 0.0968 - val_accuracy: 0.9713\n",
            "Epoch 5/13\n",
            "32298/32298 [==============================] - 129s 4ms/step - loss: 0.2349 - accuracy: 0.9191 - val_loss: 0.1141 - val_accuracy: 0.9654\n",
            "Epoch 6/13\n",
            "32298/32298 [==============================] - 129s 4ms/step - loss: 0.2224 - accuracy: 0.9219 - val_loss: 0.1224 - val_accuracy: 0.9607\n",
            "Epoch 7/13\n",
            "32298/32298 [==============================] - 130s 4ms/step - loss: 0.2207 - accuracy: 0.9240 - val_loss: 0.1270 - val_accuracy: 0.9576\n",
            "Epoch 8/13\n",
            "32298/32298 [==============================] - 131s 4ms/step - loss: 0.2196 - accuracy: 0.9237 - val_loss: 0.1489 - val_accuracy: 0.9501\n",
            "Epoch 9/13\n",
            "32298/32298 [==============================] - 129s 4ms/step - loss: 0.2116 - accuracy: 0.9262 - val_loss: 0.1522 - val_accuracy: 0.9507\n",
            "Epoch 10/13\n",
            "32298/32298 [==============================] - 128s 4ms/step - loss: 0.2162 - accuracy: 0.9242 - val_loss: 0.1551 - val_accuracy: 0.9482\n",
            "Epoch 11/13\n",
            "32298/32298 [==============================] - 128s 4ms/step - loss: 0.2073 - accuracy: 0.9276 - val_loss: 0.1845 - val_accuracy: 0.9342\n",
            "Epoch 12/13\n",
            "32298/32298 [==============================] - 128s 4ms/step - loss: 0.2053 - accuracy: 0.9294 - val_loss: 0.1873 - val_accuracy: 0.9384\n",
            "Epoch 13/13\n",
            "32298/32298 [==============================] - 130s 4ms/step - loss: 0.2079 - accuracy: 0.9297 - val_loss: 0.1963 - val_accuracy: 0.9312\n",
            "New Model Saved\n",
            "Train on 32298 samples, validate on 3589 samples\n",
            "Epoch 1/13\n",
            "32298/32298 [==============================] - 129s 4ms/step - loss: 0.2449 - accuracy: 0.9171 - val_loss: 0.0612 - val_accuracy: 0.9838\n",
            "Epoch 2/13\n",
            "32298/32298 [==============================] - 128s 4ms/step - loss: 0.2328 - accuracy: 0.9199 - val_loss: 0.0690 - val_accuracy: 0.9819\n",
            "Epoch 3/13\n",
            "32298/32298 [==============================] - 128s 4ms/step - loss: 0.2263 - accuracy: 0.9217 - val_loss: 0.0837 - val_accuracy: 0.9769\n",
            "Epoch 4/13\n",
            "32298/32298 [==============================] - 130s 4ms/step - loss: 0.2281 - accuracy: 0.9229 - val_loss: 0.0911 - val_accuracy: 0.9744\n",
            "Epoch 5/13\n",
            "32298/32298 [==============================] - 130s 4ms/step - loss: 0.2074 - accuracy: 0.9289 - val_loss: 0.0866 - val_accuracy: 0.9758\n",
            "Epoch 6/13\n",
            "32298/32298 [==============================] - 131s 4ms/step - loss: 0.2018 - accuracy: 0.9304 - val_loss: 0.1083 - val_accuracy: 0.9702\n",
            "Epoch 7/13\n",
            "32298/32298 [==============================] - 131s 4ms/step - loss: 0.2047 - accuracy: 0.9292 - val_loss: 0.1227 - val_accuracy: 0.9627\n",
            "Epoch 8/13\n",
            "32298/32298 [==============================] - 130s 4ms/step - loss: 0.2043 - accuracy: 0.9290 - val_loss: 0.1214 - val_accuracy: 0.9635\n",
            "Epoch 9/13\n",
            "32298/32298 [==============================] - 129s 4ms/step - loss: 0.1988 - accuracy: 0.9321 - val_loss: 0.1276 - val_accuracy: 0.9588\n",
            "Epoch 10/13\n",
            "32298/32298 [==============================] - 134s 4ms/step - loss: 0.1945 - accuracy: 0.9327 - val_loss: 0.1532 - val_accuracy: 0.9468\n",
            "Epoch 11/13\n",
            "32298/32298 [==============================] - 131s 4ms/step - loss: 0.2002 - accuracy: 0.9318 - val_loss: 0.1679 - val_accuracy: 0.9459\n",
            "Epoch 12/13\n",
            "32298/32298 [==============================] - 129s 4ms/step - loss: 0.2021 - accuracy: 0.9314 - val_loss: 0.1544 - val_accuracy: 0.9504\n",
            "Epoch 13/13\n",
            "32298/32298 [==============================] - 129s 4ms/step - loss: 0.1938 - accuracy: 0.9331 - val_loss: 0.1676 - val_accuracy: 0.9434\n",
            "New Model Saved\n",
            "Train on 32299 samples, validate on 3588 samples\n",
            "Epoch 1/13\n",
            "32299/32299 [==============================] - 132s 4ms/step - loss: 0.2331 - accuracy: 0.9229 - val_loss: 0.0472 - val_accuracy: 0.9852\n",
            "Epoch 2/13\n",
            "32299/32299 [==============================] - 130s 4ms/step - loss: 0.2194 - accuracy: 0.9237 - val_loss: 0.0596 - val_accuracy: 0.9827\n",
            "Epoch 3/13\n",
            "32299/32299 [==============================] - 130s 4ms/step - loss: 0.2112 - accuracy: 0.9269 - val_loss: 0.0645 - val_accuracy: 0.9838\n",
            "Epoch 4/13\n",
            "32299/32299 [==============================] - 130s 4ms/step - loss: 0.2010 - accuracy: 0.9315 - val_loss: 0.0659 - val_accuracy: 0.9841\n",
            "Epoch 5/13\n",
            "32299/32299 [==============================] - 129s 4ms/step - loss: 0.1931 - accuracy: 0.9339 - val_loss: 0.0695 - val_accuracy: 0.9785\n",
            "Epoch 6/13\n",
            "32299/32299 [==============================] - 131s 4ms/step - loss: 0.1918 - accuracy: 0.9357 - val_loss: 0.0852 - val_accuracy: 0.9752\n",
            "Epoch 7/13\n",
            "32299/32299 [==============================] - 130s 4ms/step - loss: 0.1761 - accuracy: 0.9391 - val_loss: 0.1004 - val_accuracy: 0.9674\n",
            "Epoch 8/13\n",
            "32299/32299 [==============================] - 129s 4ms/step - loss: 0.1914 - accuracy: 0.9333 - val_loss: 0.0885 - val_accuracy: 0.9752\n",
            "Epoch 9/13\n",
            "32299/32299 [==============================] - 129s 4ms/step - loss: 0.1888 - accuracy: 0.9338 - val_loss: 0.1082 - val_accuracy: 0.9666\n",
            "Epoch 10/13\n",
            "32299/32299 [==============================] - 130s 4ms/step - loss: 0.1837 - accuracy: 0.9378 - val_loss: 0.1098 - val_accuracy: 0.9688\n",
            "Epoch 11/13\n",
            "32299/32299 [==============================] - 133s 4ms/step - loss: 0.1799 - accuracy: 0.9387 - val_loss: 0.1314 - val_accuracy: 0.9551\n",
            "Epoch 12/13\n",
            "32299/32299 [==============================] - 129s 4ms/step - loss: 0.1748 - accuracy: 0.9412 - val_loss: 0.1313 - val_accuracy: 0.9571\n",
            "Epoch 13/13\n",
            "32299/32299 [==============================] - 130s 4ms/step - loss: 0.1794 - accuracy: 0.9391 - val_loss: 0.1379 - val_accuracy: 0.9546\n",
            "New Model Saved\n",
            "Train on 32299 samples, validate on 3588 samples\n",
            "Epoch 1/13\n",
            "32299/32299 [==============================] - 132s 4ms/step - loss: 0.2190 - accuracy: 0.9271 - val_loss: 0.0501 - val_accuracy: 0.9852\n",
            "Epoch 2/13\n",
            "32299/32299 [==============================] - 131s 4ms/step - loss: 0.2090 - accuracy: 0.9286 - val_loss: 0.0549 - val_accuracy: 0.9844\n",
            "Epoch 3/13\n",
            "32299/32299 [==============================] - 130s 4ms/step - loss: 0.1876 - accuracy: 0.9376 - val_loss: 0.0620 - val_accuracy: 0.9819\n",
            "Epoch 4/13\n",
            "32299/32299 [==============================] - 130s 4ms/step - loss: 0.1921 - accuracy: 0.9354 - val_loss: 0.0633 - val_accuracy: 0.9830\n",
            "Epoch 5/13\n",
            "32299/32299 [==============================] - 129s 4ms/step - loss: 0.1760 - accuracy: 0.9427 - val_loss: 0.0701 - val_accuracy: 0.9799\n",
            "Epoch 6/13\n",
            "32299/32299 [==============================] - 129s 4ms/step - loss: 0.1741 - accuracy: 0.9401 - val_loss: 0.0822 - val_accuracy: 0.9763\n",
            "Epoch 7/13\n",
            "32299/32299 [==============================] - 132s 4ms/step - loss: 0.1824 - accuracy: 0.9383 - val_loss: 0.0872 - val_accuracy: 0.9724\n",
            "Epoch 8/13\n",
            "32299/32299 [==============================] - 129s 4ms/step - loss: 0.1724 - accuracy: 0.9407 - val_loss: 0.0847 - val_accuracy: 0.9766\n",
            "Epoch 9/13\n",
            "32299/32299 [==============================] - 129s 4ms/step - loss: 0.1782 - accuracy: 0.9407 - val_loss: 0.0993 - val_accuracy: 0.9679\n",
            "Epoch 10/13\n",
            "32299/32299 [==============================] - 130s 4ms/step - loss: 0.1813 - accuracy: 0.9411 - val_loss: 0.1039 - val_accuracy: 0.9685\n",
            "Epoch 11/13\n",
            "32299/32299 [==============================] - 130s 4ms/step - loss: 0.1681 - accuracy: 0.9430 - val_loss: 0.1237 - val_accuracy: 0.9624\n",
            "Epoch 12/13\n",
            "32299/32299 [==============================] - 131s 4ms/step - loss: 0.1684 - accuracy: 0.9429 - val_loss: 0.1270 - val_accuracy: 0.9610\n",
            "Epoch 13/13\n",
            "32299/32299 [==============================] - 130s 4ms/step - loss: 0.1677 - accuracy: 0.9433 - val_loss: 0.1363 - val_accuracy: 0.9535\n",
            "Train on 32299 samples, validate on 3588 samples\n",
            "Epoch 1/13\n",
            "32299/32299 [==============================] - 133s 4ms/step - loss: 0.1946 - accuracy: 0.9349 - val_loss: 0.0351 - val_accuracy: 0.9900\n",
            "Epoch 2/13\n",
            "32299/32299 [==============================] - 129s 4ms/step - loss: 0.1947 - accuracy: 0.9329 - val_loss: 0.0515 - val_accuracy: 0.9866\n",
            "Epoch 3/13\n",
            "32299/32299 [==============================] - 131s 4ms/step - loss: 0.1860 - accuracy: 0.9385 - val_loss: 0.0502 - val_accuracy: 0.9844\n",
            "Epoch 4/13\n",
            "32299/32299 [==============================] - 130s 4ms/step - loss: 0.1750 - accuracy: 0.9395 - val_loss: 0.0551 - val_accuracy: 0.9830\n",
            "Epoch 5/13\n",
            "32299/32299 [==============================] - 130s 4ms/step - loss: 0.1664 - accuracy: 0.9431 - val_loss: 0.0551 - val_accuracy: 0.9849\n",
            "Epoch 6/13\n",
            "32299/32299 [==============================] - 129s 4ms/step - loss: 0.1689 - accuracy: 0.9420 - val_loss: 0.0595 - val_accuracy: 0.9844\n",
            "Epoch 7/13\n",
            "32299/32299 [==============================] - 129s 4ms/step - loss: 0.1620 - accuracy: 0.9445 - val_loss: 0.0651 - val_accuracy: 0.9827\n",
            "Epoch 8/13\n",
            "32299/32299 [==============================] - 131s 4ms/step - loss: 0.1668 - accuracy: 0.9439 - val_loss: 0.0829 - val_accuracy: 0.9730\n",
            "Epoch 9/13\n",
            "32299/32299 [==============================] - 129s 4ms/step - loss: 0.1752 - accuracy: 0.9417 - val_loss: 0.0839 - val_accuracy: 0.9741\n",
            "Epoch 10/13\n",
            "32299/32299 [==============================] - 129s 4ms/step - loss: 0.1687 - accuracy: 0.9428 - val_loss: 0.0847 - val_accuracy: 0.9738\n",
            "Epoch 11/13\n",
            "32299/32299 [==============================] - 131s 4ms/step - loss: 0.1711 - accuracy: 0.9425 - val_loss: 0.0949 - val_accuracy: 0.9682\n",
            "Epoch 12/13\n",
            "32299/32299 [==============================] - 129s 4ms/step - loss: 0.1619 - accuracy: 0.9454 - val_loss: 0.0860 - val_accuracy: 0.9730\n",
            "Epoch 13/13\n",
            "32299/32299 [==============================] - 131s 4ms/step - loss: 0.1548 - accuracy: 0.9489 - val_loss: 0.1049 - val_accuracy: 0.9682\n",
            "New Model Saved\n"
          ],
          "name": "stdout"
        }
      ]
    },
    {
      "cell_type": "code",
      "metadata": {
        "id": "U2iiujhLDrsn",
        "colab_type": "code",
        "colab": {}
      },
      "source": [
        "class_names = ['Angry', 'Disgust', 'Fear', 'Happy', 'Sad', 'Surprise', 'Neutral']\n",
        "def plot_confusion_matrix(\n",
        "        cm,\n",
        "        classes,\n",
        "        normalize=False,\n",
        "        title='Confusion matrix',\n",
        "        cmap=plt.cm.Blues):\n",
        "    if normalize:\n",
        "        cm = cm.astype('float') / cm.sum(axis=1)[:, np.newaxis]\n",
        "        print(\"Normalized confusion matrix\")\n",
        "    else:\n",
        "        print('Confusion matrix, without normalization')\n",
        "    print(cm)\n",
        "    plt.figure(figsize=(10,10))\n",
        "    plt.imshow(cm, interpolation='nearest', cmap=cmap)\n",
        "    plt.title(title, fontsize=12)\n",
        "    plt.colorbar()\n",
        "    tick_marks = np.arange(len(classes))\n",
        "    plt.xticks(tick_marks, classes, rotation=45,color = 'black')\n",
        "    plt.yticks(tick_marks, classes,color = 'black')\n",
        "\n",
        "    fmt = '.2f' if normalize else 'd'\n",
        "    thresh = cm.max() / 2.\n",
        "    for i, j in itertools.product(range(cm.shape[0]), range(cm.shape[1])):\n",
        "        plt.text(j, i, format(cm[i, j], fmt),\n",
        "                 horizontalalignment=\"center\",\n",
        "                 color=\"white\" if cm[i, j] > thresh else \"black\")\n",
        "\n",
        "    plt.ylabel('True label', fontsize=12,color='black')\n",
        "    plt.xlabel('Predicted label', fontsize=12,color='black')\n",
        "    plt.tight_layout()\n",
        "    plt.savefig('confusion_matrix.png')"
      ],
      "execution_count": 8,
      "outputs": []
    },
    {
      "cell_type": "code",
      "metadata": {
        "id": "UfqfQpaDETPI",
        "colab_type": "code",
        "colab": {
          "base_uri": "https://localhost:8080/",
          "height": 134
        },
        "outputId": "79a1d16e-7594-47b7-e90d-7b209cd21c77"
      },
      "source": [
        "print(y_test)\n",
        "ans = np.argmax(model2.predict(X_test),axis=-1)\n",
        "y_test = np.argmax(y_test,axis=1)\n"
      ],
      "execution_count": 9,
      "outputs": [
        {
          "output_type": "stream",
          "text": [
            "[[0 0 0 ... 0 1 0]\n",
            " [0 0 0 ... 0 0 1]\n",
            " [0 0 0 ... 1 0 0]\n",
            " ...\n",
            " [1 0 0 ... 0 0 0]\n",
            " [0 0 0 ... 0 0 0]\n",
            " [0 0 1 ... 0 0 0]]\n"
          ],
          "name": "stdout"
        }
      ]
    },
    {
      "cell_type": "code",
      "metadata": {
        "id": "tMfp_oiqILWh",
        "colab_type": "code",
        "colab": {
          "base_uri": "https://localhost:8080/",
          "height": 976
        },
        "outputId": "db69f6e7-e20b-43d8-c770-8aabe00fe8ee"
      },
      "source": [
        "matrix = confusion_matrix(y_test,ans)\n",
        "plot_confusion_matrix(\n",
        "        matrix,\n",
        "        classes=class_names,\n",
        "        normalize=True,\n",
        "        title='Confusion Matrix')"
      ],
      "execution_count": 10,
      "outputs": [
        {
          "output_type": "stream",
          "text": [
            "Normalized confusion matrix\n",
            "[[0.96326531 0.         0.01020408 0.00204082 0.00612245 0.00204082\n",
            "  0.01632653]\n",
            " [0.05454545 0.87272727 0.01818182 0.01818182 0.03636364 0.\n",
            "  0.        ]\n",
            " [0.00757576 0.         0.96022727 0.00757576 0.01893939 0.00189394\n",
            "  0.00378788]\n",
            " [0.00455063 0.         0.00227531 0.97724687 0.00568828 0.00455063\n",
            "  0.00568828]\n",
            " [0.00841751 0.0016835  0.01515152 0.0016835  0.95959596 0.0016835\n",
            "  0.01178451]\n",
            " [0.         0.         0.01923077 0.00961538 0.00240385 0.96634615\n",
            "  0.00240385]\n",
            " [0.00319489 0.         0.00159744 0.00479233 0.00479233 0.00159744\n",
            "  0.98402556]]\n"
          ],
          "name": "stdout"
        },
        {
          "output_type": "display_data",
          "data": {
            "image/png": "[encoded data removed]",
            "text/plain": [
              "<Figure size 720x720 with 2 Axes>"
            ]
          },
          "metadata": {
            "tags": [],
            "needs_background": "light"
          }
        }
      ]
    },
    {
      "cell_type": "code",
      "metadata": {
        "id": "Ku1hTIrwI370",
        "colab_type": "code",
        "colab": {
          "base_uri": "https://localhost:8080/",
          "height": 84
        },
        "outputId": "db3e19af-afa2-441e-e11c-a03710f899f3"
      },
      "source": [
        "for key in model1.history.history.keys():\n",
        "    print(key)"
      ],
      "execution_count": null,
      "outputs": [
        {
          "output_type": "stream",
          "text": [
            "val_loss\n",
            "val_accuracy\n",
            "loss\n",
            "accuracy\n"
          ],
          "name": "stdout"
        }
      ]
    },
    {
      "cell_type": "code",
      "metadata": {
        "id": "o_ML4FlA4lP2",
        "colab_type": "code",
        "colab": {
          "base_uri": "https://localhost:8080/",
          "height": 295
        },
        "outputId": "9d562869-59bb-4ab6-8de3-1c89264a7157"
      },
      "source": [
        "plt.plot(model2.history.history['accuracy'],'r')\n",
        "plt.plot(model2.history.history['val_accuracy'],'b')\n",
        "plt.title('model accuracy')\n",
        "plt.ylabel('accuracy')\n",
        "plt.xlabel('epoch')\n",
        "plt.legend(['train', 'val'], loc='upper left')\n",
        "plt.savefig('model_accuracy.png')\n",
        "plt.show()"
      ],
      "execution_count": null,
      "outputs": [
        {
          "output_type": "display_data",
          "data": {
            "image/png": "[encoded data removed]",
            "text/plain": [
              "<Figure size 432x288 with 1 Axes>"
            ]
          },
          "metadata": {
            "tags": [],
            "needs_background": "light"
          }
        }
      ]
    }
  ]
}
