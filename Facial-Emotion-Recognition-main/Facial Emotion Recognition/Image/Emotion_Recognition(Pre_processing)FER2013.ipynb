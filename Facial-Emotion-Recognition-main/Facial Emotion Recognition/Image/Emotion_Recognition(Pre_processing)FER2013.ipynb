{
  "nbformat": 4,
  "nbformat_minor": 0,
  "metadata": {
    "colab": {
      "name": "Emotion Recognition(Pre processing)FER2003.ipynb",
      "provenance": [],
      "collapsed_sections": [],
      "include_colab_link": true
    },
    "kernelspec": {
      "name": "python3",
      "display_name": "Python 3"
    },
    "accelerator": "GPU"
  },
  "cells": [
    {
      "cell_type": "markdown",
      "metadata": {
        "id": "view-in-github",
        "colab_type": "text"
      },
      "source": [
        "<a href=\"https://colab.research.google.com/github/spazewalker/FER_Doggomaniacs/blob/master/Emotion_Recognition(Pre_processing)FER2013.ipynb\" target=\"_parent\"><img src=\"https://colab.research.google.com/assets/colab-badge.svg\" alt=\"Open In Colab\"/></a>"
      ]
    },
    {
      "cell_type": "markdown",
      "metadata": {
        "id": "5K88Xb_PJlo2",
        "colab_type": "text"
      },
      "source": [
        "# Download Haar cascades."
      ]
    },
    {
      "cell_type": "code",
      "metadata": {
        "id": "a1zawdCiOvIP",
        "colab_type": "code",
        "colab": {
          "base_uri": "https://localhost:8080/",
          "height": 228
        },
        "outputId": "ac8501d0-1abf-4fd3-e860-4d68cc33cd2c"
      },
      "source": [
        "!wget https://raw.githubusercontent.com/opencv/opencv/master/data/haarcascades/haarcascade_eye.xml"
      ],
      "execution_count": 1,
      "outputs": [
        {
          "output_type": "stream",
          "text": [
            "--2020-07-09 15:42:55--  https://raw.githubusercontent.com/opencv/opencv/master/data/haarcascades/haarcascade_eye.xml\n",
            "Resolving raw.githubusercontent.com (raw.githubusercontent.com)... 151.101.0.133, 151.101.64.133, 151.101.128.133, ...\n",
            "Connecting to raw.githubusercontent.com (raw.githubusercontent.com)|151.101.0.133|:443... connected.\n",
            "HTTP request sent, awaiting response... 200 OK\n",
            "Length: 341406 (333K) [text/plain]\n",
            "Saving to: ‘haarcascade_eye.xml.2’\n",
            "\n",
            "\rhaarcascade_eye.xml   0%[                    ]       0  --.-KB/s               \rhaarcascade_eye.xml 100%[===================>] 333.40K  --.-KB/s    in 0.06s   \n",
            "\n",
            "2020-07-09 15:42:55 (5.01 MB/s) - ‘haarcascade_eye.xml.2’ saved [341406/341406]\n",
            "\n"
          ],
          "name": "stdout"
        }
      ]
    },
    {
      "cell_type": "code",
      "metadata": {
        "id": "c4A7fJEMOv_G",
        "colab_type": "code",
        "colab": {
          "base_uri": "https://localhost:8080/",
          "height": 228
        },
        "outputId": "154315e2-cd82-4a44-f8ef-da9ccc44eecd"
      },
      "source": [
        "!wget https://raw.githubusercontent.com/opencv/opencv/master/data/haarcascades/haarcascade_frontalface_default.xml"
      ],
      "execution_count": 2,
      "outputs": [
        {
          "output_type": "stream",
          "text": [
            "--2020-07-09 15:43:00--  https://raw.githubusercontent.com/opencv/opencv/master/data/haarcascades/haarcascade_frontalface_default.xml\n",
            "Resolving raw.githubusercontent.com (raw.githubusercontent.com)... 151.101.0.133, 151.101.64.133, 151.101.128.133, ...\n",
            "Connecting to raw.githubusercontent.com (raw.githubusercontent.com)|151.101.0.133|:443... connected.\n",
            "HTTP request sent, awaiting response... 200 OK\n",
            "Length: 930127 (908K) [text/plain]\n",
            "Saving to: ‘haarcascade_frontalface_default.xml.2’\n",
            "\n",
            "\r          haarcasca   0%[                    ]       0  --.-KB/s               \rhaarcascade_frontal 100%[===================>] 908.33K  --.-KB/s    in 0.09s   \n",
            "\n",
            "2020-07-09 15:43:00 (9.65 MB/s) - ‘haarcascade_frontalface_default.xml.2’ saved [930127/930127]\n",
            "\n"
          ],
          "name": "stdout"
        }
      ]
    },
    {
      "cell_type": "markdown",
      "metadata": {
        "id": "VvkPj0OXJJzd",
        "colab_type": "text"
      },
      "source": [
        "# Importing Packages."
      ]
    },
    {
      "cell_type": "code",
      "metadata": {
        "id": "PKh-PSMZyGPp",
        "colab_type": "code",
        "colab": {
          "base_uri": "https://localhost:8080/",
          "height": 667
        },
        "outputId": "f1ff14dd-d189-473d-ba9a-1f15f95081dc"
      },
      "source": [
        "from google.colab import drive\n",
        "drive.mount('/content/drive')"
      ],
      "execution_count": null,
      "outputs": [
        {
          "output_type": "error",
          "ename": "KeyboardInterrupt",
          "evalue": "ignored",
          "traceback": [
            "\u001b[0;31m---------------------------------------------------------------------------\u001b[0m",
            "\u001b[0;31mKeyboardInterrupt\u001b[0m                         Traceback (most recent call last)",
            "\u001b[0;32m/usr/local/lib/python3.6/dist-packages/ipykernel/kernelbase.py\u001b[0m in \u001b[0;36m_input_request\u001b[0;34m(self, prompt, ident, parent, password)\u001b[0m\n\u001b[1;32m    728\u001b[0m             \u001b[0;32mtry\u001b[0m\u001b[0;34m:\u001b[0m\u001b[0;34m\u001b[0m\u001b[0;34m\u001b[0m\u001b[0m\n\u001b[0;32m--> 729\u001b[0;31m                 \u001b[0mident\u001b[0m\u001b[0;34m,\u001b[0m \u001b[0mreply\u001b[0m \u001b[0;34m=\u001b[0m \u001b[0mself\u001b[0m\u001b[0;34m.\u001b[0m\u001b[0msession\u001b[0m\u001b[0;34m.\u001b[0m\u001b[0mrecv\u001b[0m\u001b[0;34m(\u001b[0m\u001b[0mself\u001b[0m\u001b[0;34m.\u001b[0m\u001b[0mstdin_socket\u001b[0m\u001b[0;34m,\u001b[0m \u001b[0;36m0\u001b[0m\u001b[0;34m)\u001b[0m\u001b[0;34m\u001b[0m\u001b[0;34m\u001b[0m\u001b[0m\n\u001b[0m\u001b[1;32m    730\u001b[0m             \u001b[0;32mexcept\u001b[0m \u001b[0mException\u001b[0m\u001b[0;34m:\u001b[0m\u001b[0;34m\u001b[0m\u001b[0;34m\u001b[0m\u001b[0m\n",
            "\u001b[0;32m/usr/local/lib/python3.6/dist-packages/jupyter_client/session.py\u001b[0m in \u001b[0;36mrecv\u001b[0;34m(self, socket, mode, content, copy)\u001b[0m\n\u001b[1;32m    802\u001b[0m         \u001b[0;32mtry\u001b[0m\u001b[0;34m:\u001b[0m\u001b[0;34m\u001b[0m\u001b[0;34m\u001b[0m\u001b[0m\n\u001b[0;32m--> 803\u001b[0;31m             \u001b[0mmsg_list\u001b[0m \u001b[0;34m=\u001b[0m \u001b[0msocket\u001b[0m\u001b[0;34m.\u001b[0m\u001b[0mrecv_multipart\u001b[0m\u001b[0;34m(\u001b[0m\u001b[0mmode\u001b[0m\u001b[0;34m,\u001b[0m \u001b[0mcopy\u001b[0m\u001b[0;34m=\u001b[0m\u001b[0mcopy\u001b[0m\u001b[0;34m)\u001b[0m\u001b[0;34m\u001b[0m\u001b[0;34m\u001b[0m\u001b[0m\n\u001b[0m\u001b[1;32m    804\u001b[0m         \u001b[0;32mexcept\u001b[0m \u001b[0mzmq\u001b[0m\u001b[0;34m.\u001b[0m\u001b[0mZMQError\u001b[0m \u001b[0;32mas\u001b[0m \u001b[0me\u001b[0m\u001b[0;34m:\u001b[0m\u001b[0;34m\u001b[0m\u001b[0;34m\u001b[0m\u001b[0m\n",
            "\u001b[0;32m/usr/local/lib/python3.6/dist-packages/zmq/sugar/socket.py\u001b[0m in \u001b[0;36mrecv_multipart\u001b[0;34m(self, flags, copy, track)\u001b[0m\n\u001b[1;32m    474\u001b[0m         \"\"\"\n\u001b[0;32m--> 475\u001b[0;31m         \u001b[0mparts\u001b[0m \u001b[0;34m=\u001b[0m \u001b[0;34m[\u001b[0m\u001b[0mself\u001b[0m\u001b[0;34m.\u001b[0m\u001b[0mrecv\u001b[0m\u001b[0;34m(\u001b[0m\u001b[0mflags\u001b[0m\u001b[0;34m,\u001b[0m \u001b[0mcopy\u001b[0m\u001b[0;34m=\u001b[0m\u001b[0mcopy\u001b[0m\u001b[0;34m,\u001b[0m \u001b[0mtrack\u001b[0m\u001b[0;34m=\u001b[0m\u001b[0mtrack\u001b[0m\u001b[0;34m)\u001b[0m\u001b[0;34m]\u001b[0m\u001b[0;34m\u001b[0m\u001b[0;34m\u001b[0m\u001b[0m\n\u001b[0m\u001b[1;32m    476\u001b[0m         \u001b[0;31m# have first part already, only loop while more to receive\u001b[0m\u001b[0;34m\u001b[0m\u001b[0;34m\u001b[0m\u001b[0;34m\u001b[0m\u001b[0m\n",
            "\u001b[0;32mzmq/backend/cython/socket.pyx\u001b[0m in \u001b[0;36mzmq.backend.cython.socket.Socket.recv\u001b[0;34m()\u001b[0m\n",
            "\u001b[0;32mzmq/backend/cython/socket.pyx\u001b[0m in \u001b[0;36mzmq.backend.cython.socket.Socket.recv\u001b[0;34m()\u001b[0m\n",
            "\u001b[0;32mzmq/backend/cython/socket.pyx\u001b[0m in \u001b[0;36mzmq.backend.cython.socket._recv_copy\u001b[0;34m()\u001b[0m\n",
            "\u001b[0;32m/usr/local/lib/python3.6/dist-packages/zmq/backend/cython/checkrc.pxd\u001b[0m in \u001b[0;36mzmq.backend.cython.checkrc._check_rc\u001b[0;34m()\u001b[0m\n",
            "\u001b[0;31mKeyboardInterrupt\u001b[0m: ",
            "\nDuring handling of the above exception, another exception occurred:\n",
            "\u001b[0;31mKeyboardInterrupt\u001b[0m                         Traceback (most recent call last)",
            "\u001b[0;32m<ipython-input-3-d5df0069828e>\u001b[0m in \u001b[0;36m<module>\u001b[0;34m()\u001b[0m\n\u001b[1;32m      1\u001b[0m \u001b[0;32mfrom\u001b[0m \u001b[0mgoogle\u001b[0m\u001b[0;34m.\u001b[0m\u001b[0mcolab\u001b[0m \u001b[0;32mimport\u001b[0m \u001b[0mdrive\u001b[0m\u001b[0;34m\u001b[0m\u001b[0;34m\u001b[0m\u001b[0m\n\u001b[0;32m----> 2\u001b[0;31m \u001b[0mdrive\u001b[0m\u001b[0;34m.\u001b[0m\u001b[0mmount\u001b[0m\u001b[0;34m(\u001b[0m\u001b[0;34m'/content/drive'\u001b[0m\u001b[0;34m)\u001b[0m\u001b[0;34m\u001b[0m\u001b[0;34m\u001b[0m\u001b[0m\n\u001b[0m",
            "\u001b[0;32m/usr/local/lib/python3.6/dist-packages/google/colab/drive.py\u001b[0m in \u001b[0;36mmount\u001b[0;34m(mountpoint, force_remount, timeout_ms, use_metadata_server)\u001b[0m\n\u001b[1;32m    240\u001b[0m       \u001b[0mauth_prompt\u001b[0m \u001b[0;34m=\u001b[0m \u001b[0md\u001b[0m\u001b[0;34m.\u001b[0m\u001b[0mmatch\u001b[0m\u001b[0;34m.\u001b[0m\u001b[0mgroup\u001b[0m\u001b[0;34m(\u001b[0m\u001b[0;36m1\u001b[0m\u001b[0;34m)\u001b[0m \u001b[0;34m+\u001b[0m \u001b[0;34m'\\nEnter your authorization code:\\n'\u001b[0m\u001b[0;34m\u001b[0m\u001b[0;34m\u001b[0m\u001b[0m\n\u001b[1;32m    241\u001b[0m       \u001b[0;32mwith\u001b[0m \u001b[0mopen\u001b[0m\u001b[0;34m(\u001b[0m\u001b[0mfifo\u001b[0m\u001b[0;34m,\u001b[0m \u001b[0;34m'w'\u001b[0m\u001b[0;34m)\u001b[0m \u001b[0;32mas\u001b[0m \u001b[0mfifo_file\u001b[0m\u001b[0;34m:\u001b[0m\u001b[0;34m\u001b[0m\u001b[0;34m\u001b[0m\u001b[0m\n\u001b[0;32m--> 242\u001b[0;31m         \u001b[0mfifo_file\u001b[0m\u001b[0;34m.\u001b[0m\u001b[0mwrite\u001b[0m\u001b[0;34m(\u001b[0m\u001b[0m_getpass\u001b[0m\u001b[0;34m.\u001b[0m\u001b[0mgetpass\u001b[0m\u001b[0;34m(\u001b[0m\u001b[0mauth_prompt\u001b[0m\u001b[0;34m)\u001b[0m \u001b[0;34m+\u001b[0m \u001b[0;34m'\\n'\u001b[0m\u001b[0;34m)\u001b[0m\u001b[0;34m\u001b[0m\u001b[0;34m\u001b[0m\u001b[0m\n\u001b[0m\u001b[1;32m    243\u001b[0m       \u001b[0mwrote_to_fifo\u001b[0m \u001b[0;34m=\u001b[0m \u001b[0;32mTrue\u001b[0m\u001b[0;34m\u001b[0m\u001b[0;34m\u001b[0m\u001b[0m\n\u001b[1;32m    244\u001b[0m   \u001b[0;32mif\u001b[0m \u001b[0;32mnot\u001b[0m \u001b[0mwrote_to_fifo\u001b[0m\u001b[0;34m:\u001b[0m\u001b[0;34m\u001b[0m\u001b[0;34m\u001b[0m\u001b[0m\n",
            "\u001b[0;32m/usr/local/lib/python3.6/dist-packages/ipykernel/kernelbase.py\u001b[0m in \u001b[0;36mgetpass\u001b[0;34m(self, prompt, stream)\u001b[0m\n\u001b[1;32m    685\u001b[0m             \u001b[0mself\u001b[0m\u001b[0;34m.\u001b[0m\u001b[0m_parent_ident\u001b[0m\u001b[0;34m,\u001b[0m\u001b[0;34m\u001b[0m\u001b[0;34m\u001b[0m\u001b[0m\n\u001b[1;32m    686\u001b[0m             \u001b[0mself\u001b[0m\u001b[0;34m.\u001b[0m\u001b[0m_parent_header\u001b[0m\u001b[0;34m,\u001b[0m\u001b[0;34m\u001b[0m\u001b[0;34m\u001b[0m\u001b[0m\n\u001b[0;32m--> 687\u001b[0;31m             \u001b[0mpassword\u001b[0m\u001b[0;34m=\u001b[0m\u001b[0;32mTrue\u001b[0m\u001b[0;34m,\u001b[0m\u001b[0;34m\u001b[0m\u001b[0;34m\u001b[0m\u001b[0m\n\u001b[0m\u001b[1;32m    688\u001b[0m         )\n\u001b[1;32m    689\u001b[0m \u001b[0;34m\u001b[0m\u001b[0m\n",
            "\u001b[0;32m/usr/local/lib/python3.6/dist-packages/ipykernel/kernelbase.py\u001b[0m in \u001b[0;36m_input_request\u001b[0;34m(self, prompt, ident, parent, password)\u001b[0m\n\u001b[1;32m    732\u001b[0m             \u001b[0;32mexcept\u001b[0m \u001b[0mKeyboardInterrupt\u001b[0m\u001b[0;34m:\u001b[0m\u001b[0;34m\u001b[0m\u001b[0;34m\u001b[0m\u001b[0m\n\u001b[1;32m    733\u001b[0m                 \u001b[0;31m# re-raise KeyboardInterrupt, to truncate traceback\u001b[0m\u001b[0;34m\u001b[0m\u001b[0;34m\u001b[0m\u001b[0;34m\u001b[0m\u001b[0m\n\u001b[0;32m--> 734\u001b[0;31m                 \u001b[0;32mraise\u001b[0m \u001b[0mKeyboardInterrupt\u001b[0m\u001b[0;34m\u001b[0m\u001b[0;34m\u001b[0m\u001b[0m\n\u001b[0m\u001b[1;32m    735\u001b[0m             \u001b[0;32melse\u001b[0m\u001b[0;34m:\u001b[0m\u001b[0;34m\u001b[0m\u001b[0;34m\u001b[0m\u001b[0m\n\u001b[1;32m    736\u001b[0m                 \u001b[0;32mbreak\u001b[0m\u001b[0;34m\u001b[0m\u001b[0;34m\u001b[0m\u001b[0m\n",
            "\u001b[0;31mKeyboardInterrupt\u001b[0m: "
          ]
        }
      ]
    },
    {
      "cell_type": "code",
      "metadata": {
        "id": "PTbVuGbhYyHC",
        "colab_type": "code",
        "colab": {}
      },
      "source": [
        "import cv2\n",
        "import csv\n",
        "from math import sqrt\n",
        "import scipy.misc\n",
        "import numpy as np\n",
        "import pandas as pd\n",
        "import tensorflow as tf\n",
        "import matplotlib.pyplot as plt\n",
        "eye_cascade = cv2.CascadeClassifier('/content/haarcascade_eye.xml')\n",
        "face_cascade = cv2.CascadeClassifier('/content/haarcascade_frontalface_default.xml')\n",
        "emotions = [\"Angry\", \"Disgust\", \"Fear\", \"Happy\", \"Sad\", \"Surprise\", \"Neutral\"]"
      ],
      "execution_count": 3,
      "outputs": []
    },
    {
      "cell_type": "markdown",
      "metadata": {
        "id": "T9V_NngdJOxY",
        "colab_type": "text"
      },
      "source": [
        "# Loading Data.\n",
        "Change the location of zip file."
      ]
    },
    {
      "cell_type": "markdown",
      "metadata": {
        "id": "JTrhZJpS_jLL",
        "colab_type": "text"
      },
      "source": [
        "Loading csv file."
      ]
    },
    {
      "cell_type": "code",
      "metadata": {
        "id": "iJhOBhTzE3Rd",
        "colab_type": "code",
        "colab": {}
      },
      "source": [
        "data = pd.read_csv(\"/content/drive/My Drive/FER/fer2013.zip\",compression = 'zip',sep = ',')"
      ],
      "execution_count": null,
      "outputs": []
    },
    {
      "cell_type": "markdown",
      "metadata": {
        "id": "tiTAtYjV_pU8",
        "colab_type": "text"
      },
      "source": [
        "Loading Y part"
      ]
    },
    {
      "cell_type": "code",
      "metadata": {
        "id": "P3SXR6U1F-_P",
        "colab_type": "code",
        "colab": {
          "base_uri": "https://localhost:8080/",
          "height": 34
        },
        "outputId": "6f4202d6-d053-4827-e585-c10e7b819486"
      },
      "source": [
        "y = np.array(data['emotion'])\n",
        "print(y)\n",
        "y = [y]\n",
        "y = np.array(y)\n",
        "y= y.T"
      ],
      "execution_count": null,
      "outputs": [
        {
          "output_type": "stream",
          "text": [
            "[0 0 2 ... 0 3 2]\n"
          ],
          "name": "stdout"
        }
      ]
    },
    {
      "cell_type": "code",
      "metadata": {
        "id": "3IIhR3veys2o",
        "colab_type": "code",
        "colab": {
          "base_uri": "https://localhost:8080/",
          "height": 34
        },
        "outputId": "1feefbe5-e782-419c-e705-0e366b5c92ed"
      },
      "source": [
        "print(y.shape)"
      ],
      "execution_count": null,
      "outputs": [
        {
          "output_type": "stream",
          "text": [
            "(35887, 1)\n"
          ],
          "name": "stdout"
        }
      ]
    },
    {
      "cell_type": "markdown",
      "metadata": {
        "id": "Od3SsVK-I_WG",
        "colab_type": "text"
      },
      "source": [
        "#Preprocessing Starts here."
      ]
    },
    {
      "cell_type": "markdown",
      "metadata": {
        "id": "cG2vU-Y_B4ra",
        "colab_type": "text"
      },
      "source": [
        "Converting the array of pixels to image.\n",
        "1. Converted to a numpy array\n",
        "2. Then resized to higher dimension for processing."
      ]
    },
    {
      "cell_type": "code",
      "metadata": {
        "id": "jwe6nAg6B45a",
        "colab_type": "code",
        "colab": {}
      },
      "source": [
        "def modification(image):\n",
        "  image = np.mat(image).reshape(48, 48,1) \n",
        "  image = np.uint8(image)\n",
        "  image = cv2.resize(image,(480,480), interpolation = cv2.INTER_AREA)\n",
        "  return image"
      ],
      "execution_count": 34,
      "outputs": []
    },
    {
      "cell_type": "code",
      "metadata": {
        "id": "JohBikW-DlXx",
        "colab_type": "code",
        "colab": {
          "base_uri": "https://localhost:8080/",
          "height": 269
        },
        "outputId": "33a13f55-2910-4913-c4ee-e4dd2d107149"
      },
      "source": [
        "image  = modification(data['pixels'][5])\n",
        "plt.imshow(image)\n",
        "plt.show()"
      ],
      "execution_count": null,
      "outputs": [
        {
          "output_type": "display_data",
          "data": {
            "image/png": "[encoded data removed]",
            "text/plain": [
              "<Figure size 432x288 with 1 Axes>"
            ]
          },
          "metadata": {
            "tags": [],
            "needs_background": "light"
          }
        }
      ]
    },
    {
      "cell_type": "markdown",
      "metadata": {
        "id": "nDSRtpjSAZ04",
        "colab_type": "text"
      },
      "source": [
        "Rotation:\n",
        "1. Finding the face and then eye using Haar cascades.\n",
        "2. Upon detection, finding the angle made by line joining the eyes and horizontal.\n",
        "3. Then transformation matrix if found.\n",
        "4. Finally cropping is done."
      ]
    },
    {
      "cell_type": "code",
      "metadata": {
        "id": "FFFVewoNAGvM",
        "colab_type": "code",
        "colab": {}
      },
      "source": [
        "def rotate(image):\n",
        "  l1=[]\n",
        "  faces = face_cascade.detectMultiScale(image)\n",
        "  if(len(faces)==1):\n",
        "    for (x,y,w,h) in faces:\n",
        "      face_detected = image[y:y+h,x:x+h]\n",
        "      eyes = eye_cascade.detectMultiScale(face_detected)\n",
        "      for (ex,ey,ew,eh) in eyes:\n",
        "          l1.append((ex+ew/2,ey+eh/2))\n",
        "      \n",
        "      if(len(l1)==2):\n",
        "        dist_x = l1[1][0]-l1[0][0]\n",
        "        dist_y = l1[1][1] - l1[0][1]\n",
        "        if dist_x<0:\n",
        "          dist_y = -dist_y\n",
        "        dist_x = np.abs(dist_x)     \n",
        "        angle = np.arctan(dist_y/dist_x) * 180/3.14\n",
        "        M = cv2.getRotationMatrix2D((240, 240), angle, 1.0)\n",
        "        image = cv2.warpAffine(image, M,(480,480))\n",
        "  return image"
      ],
      "execution_count": 4,
      "outputs": []
    },
    {
      "cell_type": "code",
      "metadata": {
        "id": "xWo-OWivD0xP",
        "colab_type": "code",
        "colab": {
          "base_uri": "https://localhost:8080/",
          "height": 269
        },
        "outputId": "149d4d56-f510-46be-cedc-750da788d490"
      },
      "source": [
        "image = rotate(image)\n",
        "plt.imshow(image)\n",
        "plt.show()"
      ],
      "execution_count": null,
      "outputs": [
        {
          "output_type": "display_data",
          "data": {
            "image/png": "[encoded data removed]",
            "text/plain": [
              "<Figure size 432x288 with 1 Axes>"
            ]
          },
          "metadata": {
            "tags": [],
            "needs_background": "light"
          }
        }
      ]
    },
    {
      "cell_type": "markdown",
      "metadata": {
        "id": "MS3X95oxA9YA",
        "colab_type": "text"
      },
      "source": [
        "Cropping:\n",
        "1. Face is detected and then image is cropped to the face detected.\n",
        "2. Now, eyes are detected and the distance between them is calculated.\n",
        "3. Using x_factor and y_factor with distance, crop the image."
      ]
    },
    {
      "cell_type": "code",
      "metadata": {
        "id": "42MJckxsA9ob",
        "colab_type": "code",
        "colab": {}
      },
      "source": [
        "def crop(image,x_factor=2.1,y_factor=3.2):\n",
        "  l1=[]\n",
        "  faces = face_cascade.detectMultiScale(image)\n",
        "  if(len(faces)==1):\n",
        "    for (x,y,w,h) in faces:\n",
        "      image = image[y:y+h,x:x+h]\n",
        "\n",
        "  eyes = eye_cascade.detectMultiScale(image)\n",
        "  for (ex,ey,ew,eh) in eyes:\n",
        "      l1.append((ex+ew/2,ey+eh/2))\n",
        "  if(len(l1)==2):\n",
        "    dist = np.sqrt((l1[0][0]-l1[1][0])**2+(l1[0][1]-l1[1][1])**2)\n",
        "    center_x = image.shape[1]//2\n",
        "    center_y = image.shape[0]//2\n",
        "    shift_x = int(dist*x_factor)//2\n",
        "    shift_y = int(dist*y_factor)//2\n",
        "    start_x = center_x - shift_x\n",
        "    start_x = max(start_x,0)\n",
        "    end_x = center_x+shift_x\n",
        "    end_x = min(end_x,image.shape[1])\n",
        "    start_y = center_y - shift_y\n",
        "    start_y = max(start_y,0)\n",
        "    end_y = center_y + shift_y\n",
        "    end_y = min(end_y,image.shape[0])\n",
        "    image = image[start_y:end_y,start_x:end_x]\n",
        "  return image"
      ],
      "execution_count": 5,
      "outputs": []
    },
    {
      "cell_type": "code",
      "metadata": {
        "id": "KheXi0JZEAiN",
        "colab_type": "code",
        "colab": {
          "base_uri": "https://localhost:8080/",
          "height": 269
        },
        "outputId": "ec203521-32de-453b-a563-6af0e980b7d7"
      },
      "source": [
        "image = crop(image)\n",
        "plt.imshow(image)\n",
        "plt.show()"
      ],
      "execution_count": null,
      "outputs": [
        {
          "output_type": "display_data",
          "data": {
            "image/png": "[encoded data removed]",
            "text/plain": [
              "<Figure size 432x288 with 1 Axes>"
            ]
          },
          "metadata": {
            "tags": [],
            "needs_background": "light"
          }
        }
      ]
    },
    {
      "cell_type": "code",
      "metadata": {
        "id": "_nVWvAFag-YM",
        "colab_type": "code",
        "colab": {}
      },
      "source": [
        "def preProcessing(images,x_factor=2.1,y_factor=3.2):\n",
        "  x_images= []\n",
        "  for i in images:\n",
        "    image = i\n",
        "    image = modification(image)\n",
        "    image = rotate(image)\n",
        "    image = crop(image,x_factor,y_factor)\n",
        "    #Smoothing\n",
        "    image = cv2.bilateralFilter(image, 4, 15, 15)\n",
        "    #Resizing\n",
        "    image = cv2.resize(image,(48,48), interpolation = cv2.INTER_AREA)\n",
        "    x_images.append(image)\n",
        "  x_images= np.array(x_images)\n",
        "  return x_images\n"
      ],
      "execution_count": 6,
      "outputs": []
    },
    {
      "cell_type": "code",
      "metadata": {
        "id": "1JWZyE-e92PO",
        "colab_type": "code",
        "colab": {}
      },
      "source": [
        "x = preProcessing(data['pixels'])"
      ],
      "execution_count": null,
      "outputs": []
    },
    {
      "cell_type": "markdown",
      "metadata": {
        "id": "QnoqrKN-5-SC",
        "colab_type": "text"
      },
      "source": [
        "To show the progress."
      ]
    },
    {
      "cell_type": "code",
      "metadata": {
        "id": "wjgp0oVC4sZP",
        "colab_type": "code",
        "colab": {}
      },
      "source": [
        "def progress(percent=0, width=30):\n",
        "  left = int(width * percent) // 100\n",
        "  right = width - left\n",
        "  print('\\r[', '#' * left, ' ' * right, ']',\n",
        "        f' {percent:.2f}%',\n",
        "        sep='', end='', flush=True)"
      ],
      "execution_count": null,
      "outputs": []
    },
    {
      "cell_type": "markdown",
      "metadata": {
        "id": "jC_KCSCo2Ao9",
        "colab_type": "text"
      },
      "source": [
        "Since preprocessing takes too much time. It is beneficial to save the preprocessed data in for of CSV and then use it when required. This function do the same."
      ]
    },
    {
      "cell_type": "code",
      "metadata": {
        "id": "Xigaz_X91_vP",
        "colab_type": "code",
        "colab": {}
      },
      "source": [
        "def savePreprocessed(data,x_factor=2.1,y_factor=3.2):\n",
        "  images = data['pixels']\n",
        "  y = np.array(data['emotion'])\n",
        "  x_images= []\n",
        "  y_emotion = []\n",
        "  total = images.shape[0]\n",
        "  for i in range(total):\n",
        "    progress(i*100/total)\n",
        "    image = images[i]\n",
        "    image = modification(image)\n",
        "    # plt.imshow(image)\n",
        "    # plt.show()\n",
        "    image = rotate(image)\n",
        "    image = crop(image,x_factor,y_factor)\n",
        "    #Smoothing\n",
        "    image = cv2.bilateralFilter(image, 4, 15, 15)\n",
        "    #Resizing\n",
        "    image = cv2.resize(image,(48,48), interpolation = cv2.INTER_AREA)\n",
        "    flattened = image.flatten()\n",
        "    flattened = list(flattened)\n",
        "    flattened = ' '.join(map(str, flattened))\n",
        "    x_images.append(flattened)\n",
        "    y_emotion.append(y[i])\n",
        "  data1 = {'emotion':y_emotion,'pixels':x_images}\n",
        "  df = pd.DataFrame(data1)\n",
        "  df.to_csv('/content/sample_data/preprocessed.csv',index = False)\n",
        "  return"
      ],
      "execution_count": null,
      "outputs": []
    },
    {
      "cell_type": "code",
      "metadata": {
        "id": "AKpLTDkr4itx",
        "colab_type": "code",
        "colab": {
          "base_uri": "https://localhost:8080/",
          "height": 34
        },
        "outputId": "c4adde45-5b9c-48c2-fad0-8b977ca2eac2"
      },
      "source": [
        "savePreprocessed(data[0:100])"
      ],
      "execution_count": null,
      "outputs": [
        {
          "output_type": "stream",
          "text": [
            "[############################# ] 99.00%"
          ],
          "name": "stdout"
        }
      ]
    },
    {
      "cell_type": "code",
      "metadata": {
        "id": "vDfeH8uR_5o8",
        "colab_type": "code",
        "colab": {}
      },
      "source": [
        "def get_faces(image,x_factor=2.1,y_factor=3.2):\n",
        "  height,width,_ = image.shape\n",
        "  factor = 720/height\n",
        "  image = cv2.resize(image,(int(width*factor),int(height*factor)),interpolation = cv2.INTER_AREA)\n",
        "  faces = face_cascade.detectMultiScale(image)\n",
        "  face_list = []\n",
        "  labels = []\n",
        "  for (x,y,w,h) in faces:\n",
        "    x  = x - int(0.2*w)\n",
        "    y = y - int(0.2*h)\n",
        "    w = int(1.2*w)\n",
        "    h = int(1.2*w)\n",
        "    face = image[y:y+h,x:x+h]\n",
        "    face = rotate(face)\n",
        "    face = crop(face,x_factor,y_factor)\n",
        "    #Smoothing\n",
        "    face = cv2.bilateralFilter(face, 4, 15, 15)\n",
        "    #Resizing\n",
        "    face = cv2.resize(face,(48,48), interpolation = cv2.INTER_AREA)\n",
        "    face_list.append(face)\n",
        "    labels.append((int(x/factor),int(y/factor)))\n",
        "  return face_list,labels "
      ],
      "execution_count": 10,
      "outputs": []
    },
    {
      "cell_type": "code",
      "metadata": {
        "id": "hQxTk7IIDlfV",
        "colab_type": "code",
        "colab": {}
      },
      "source": [
        "image = plt.imread(\"/content/sample_data/person2.jpeg\")\n",
        "faces,labels = get_faces(image)\n",
        "#labels is if you want to label each face with emotion.\n",
        "for face,label in zip(faces,labels):\n",
        "  plt.imshow(face)\n",
        "  plt.show()\n",
        "  print(label)"
      ],
      "execution_count": null,
      "outputs": []
    },
    {
      "cell_type": "markdown",
      "metadata": {
        "id": "MXo8mc3XJblY",
        "colab_type": "text"
      },
      "source": [
        "# Dividing Data between train,dev,test."
      ]
    },
    {
      "cell_type": "code",
      "metadata": {
        "id": "81M1y8nQUVr9",
        "colab_type": "code",
        "colab": {}
      },
      "source": [
        "def partition(x,y):\n",
        "  size = y.shape[0]\n",
        "  sizetrain = (8*size)//10\n",
        "  size2 = (10*size)//100\n",
        "  order=np.random.permutation(size)\n",
        "  x=x[order]\n",
        "  y=y[order]\n",
        "  train_x = x[0:sizetrain]\n",
        "  train_y = y[0:sizetrain]\n",
        "  dev_x = x[sizetrain:sizetrain+size2]\n",
        "  dev_y = y[sizetrain:sizetrain+size2]\n",
        "  test_x = x[sizetrain+size2:size]\n",
        "  test_y = y[sizetrain+size2:size]\n",
        "  return train_x,train_y,dev_x,dev_y,test_x,test_y"
      ],
      "execution_count": null,
      "outputs": []
    },
    {
      "cell_type": "markdown",
      "metadata": {
        "colab_type": "text",
        "id": "dSSqkATwFJRl"
      },
      "source": [
        "# Class Implementation\n",
        "Currently this is not working."
      ]
    },
    {
      "cell_type": "code",
      "metadata": {
        "colab_type": "code",
        "id": "WTuC8dt-FJR5",
        "colab": {}
      },
      "source": [
        "class PreProcessing:\n",
        "  def __init__(self,images,x_factor = 2.1,rotate = True, crop = True, smoothing = True, resize = True, y_factor = 3.2,smoothing_params=(4, 15, 15),resize_shape=(48,48)):\n",
        "    self.images = images\n",
        "    self.total = images.shape[0]\n",
        "    self.face = 0\n",
        "    self.eye = 0\n",
        "    self.face_count = 0\n",
        "    self.eye_count = 0\n",
        "    self.image = 0\n",
        "    self.face_detected = 0\n",
        "    self.eye_detected = 0\n",
        "    self.rotate_state = True\n",
        "    self.crop_state =True\n",
        "    self.smoothing_state = True\n",
        "    self.resize_state = True\n",
        "    self.x_factor = x_factor\n",
        "    self.y_factor = y_factor\n",
        "    self.smoothing_params = smoothing_params\n",
        "    self.resize_shape = resize_shape\n",
        "\n",
        "  def modification(self,image):\n",
        "    image = np.mat(image).reshape(48,48,1)\n",
        "    image = np.uint8(image)\n",
        "    image = cv2.resize(image,(480,480), interpolation = cv2.INTER_AREA)\n",
        "    self.image = image\n",
        "  def detection(self):\n",
        "    faces = face_cascade.detectMultiScale(self.image)\n",
        "    if(len(faces)==1):\n",
        "      self.face = 1\n",
        "      self.face_count+=1\n",
        "      for (x,y,w,h) in faces:\n",
        "        self.face_detected = self.image[y:y+h,x:x+h]\n",
        "        eyes = eye_cascade.detectMultiScale(self.face_detected)\n",
        "        for (ex,ey,ew,eh) in eyes:\n",
        "          l1.append((ex+ew/2,ey+eh/2))\n",
        "        if(len(l1)==2):\n",
        "          self.eye = 1\n",
        "          self.eye_count+=1\n",
        "          self.eye_detected = l1\n",
        "        else:\n",
        "          self.eye = 0\n",
        "    else:\n",
        "      self.face = 0\n",
        "  \n",
        "  def rotation(self):\n",
        "    self.detection()\n",
        "    if self.eye == 1:\n",
        "      dist_x = self.eye_detected[1][0]-self.eye_detected[0][0]\n",
        "      dist_y = self.eye_detected[1][1] - self.eye_detected[0][1]\n",
        "      if dist_x<0:\n",
        "        dist_y = -dist_y\n",
        "      dist_x = np.abs(dist_x)\n",
        "      angle = np.arctan(dist_y/dist_x) * 180/3.14\n",
        "      M = cv2.getRotationMatrix2D((240, 240), angle, 1.0)\n",
        "      self.image = cv2.warpAffine(self.image, M,(480,480))\n",
        "  def crop(self):\n",
        "    self.detection()\n",
        "    if self.face == 1:\n",
        "      self.image = self.face_detected\n",
        "      if self.eye ==1:\n",
        "        dist = np.sqrt((self.eye_detected[0][0]-self.eye_detected[1][0])**2+(self.eye_detected[0][1]-self.eye_detected[1][1])**2)\n",
        "        center_x = self.image.shape[1]//2\n",
        "        center_y = self.image.shape[0]//2\n",
        "        shift_x = int(dist*self.x_factor)//2\n",
        "        shift_y = int(dist*self.y_factor)//2\n",
        "        start_x = center_x - shift_x\n",
        "        start_x = max(start_x,0)\n",
        "        end_x = center_x+shift_x\n",
        "        end_x = min(end_x,self.image.shape[1])\n",
        "        start_y = center_y - shift_y\n",
        "        start_y = max(start_y,0)\n",
        "        end_y = center_y + shift_y\n",
        "        end_y = min(end_y,self.image.shape[0])\n",
        "        self.image = self.image[start_y:end_y,start_x:end_x]\n",
        "  def smoothing(self):\n",
        "    self.image = cv2.bilateralFilter(self.image, self.smoothing_params[0], self.smoothing_params[1], self.smoothing_params[2])\n",
        "  \n",
        "\n",
        "  def resize(self):\n",
        "    self.image = cv2.resize(self.image,self.resize_shape, interpolation = cv2.INTER_AREA)\n",
        "  def getImage(self):\n",
        "    return self.image\n",
        "  def summary(self):\n",
        "    print(\"Total Images:\",self.total)\n",
        "    if (self.rotate_state==True and self.crop_state==True):\n",
        "      print(\"Total Face Detected: \",self.face_count//2)\n",
        "      print(\"Total Eye Detected:\",self.eye_count//2)\n",
        "    else:\n",
        "      print(\"Total Face Detected: \",self.face_count)\n",
        "      print(\"Total Eye Detected:\",self.eye_count)\n",
        "  \n",
        "  def main(self):\n",
        "    x=[]\n",
        "    for i in self.images:\n",
        "      self.modification(i)\n",
        "      plt.imshow(self.image)\n",
        "      plt.show()\n",
        "      if self.rotate_state==True:\n",
        "        self.rotation()\n",
        "      print(\"After rotation\")\n",
        "      plt.imshow(self.image)\n",
        "      plt.show()\n",
        "      if self.crop_state == True:\n",
        "        self.crop()\n",
        "      print(\"After cropping\")\n",
        "      plt.imshow(self.image)\n",
        "      plt.show()\n",
        "      if self.smoothing_state == True:\n",
        "        self.smoothing()\n",
        "      print(\"After smoothing\")\n",
        "      plt.imshow(self.image)\n",
        "      plt.show()\n",
        "      if self.resize_state ==True:\n",
        "        self.resize()\n",
        "      print(\"After resizing\")\n",
        "      plt.imshow(self.image)\n",
        "      plt.show()\n",
        "      x.append(self.image)\n",
        "    x = np.array(x)\n",
        "    return x\n"
      ],
      "execution_count": null,
      "outputs": []
    }
  ]
}
